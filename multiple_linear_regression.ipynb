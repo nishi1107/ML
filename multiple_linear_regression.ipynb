{
  "nbformat": 4,
  "nbformat_minor": 0,
  "metadata": {
    "colab": {
      "provenance": []
    },
    "kernelspec": {
      "name": "python3",
      "display_name": "Python 3"
    },
    "language_info": {
      "name": "python"
    }
  },
  "cells": [
    {
      "cell_type": "code",
      "execution_count": 1,
      "metadata": {
        "id": "hI174f0q8OC3"
      },
      "outputs": [],
      "source": [
        "from sklearn.datasets import make_regression\n",
        "import pandas as pd\n",
        "import numpy as np\n",
        "import plotly.express as px\n",
        "from sklearn.metrics import mean_absolute_error, mean_squared_error, r2_score"
      ]
    },
    {
      "cell_type": "code",
      "source": [
        "x, y = make_regression(n_samples = 100, n_features=2, n_informative=2, n_targets=1, noise=50)"
      ],
      "metadata": {
        "id": "Y7Q2kBlz9ROV"
      },
      "execution_count": 3,
      "outputs": []
    },
    {
      "cell_type": "code",
      "source": [
        "x"
      ],
      "metadata": {
        "colab": {
          "base_uri": "https://localhost:8080/"
        },
        "id": "8Z_UlJ0R_ehY",
        "outputId": "12c0a3ea-f8af-4ef4-acce-d249e0b6a442"
      },
      "execution_count": 4,
      "outputs": [
        {
          "output_type": "execute_result",
          "data": {
            "text/plain": [
              "array([[ 6.58840199e-01,  3.52017439e-02],\n",
              "       [-9.73196643e-02,  3.75857607e-01],\n",
              "       [ 6.03479110e-01,  6.64456295e-01],\n",
              "       [-9.62720465e-01, -1.15001184e+00],\n",
              "       [-3.68760528e-01,  3.58419455e-01],\n",
              "       [ 6.19836291e-01, -1.06346449e+00],\n",
              "       [ 1.32943060e+00, -1.13708631e-01],\n",
              "       [ 1.04234874e+00,  1.95933424e+00],\n",
              "       [-8.44669883e-01,  2.11378752e-01],\n",
              "       [-3.24513537e-01,  8.21094403e-01],\n",
              "       [ 7.85376809e-02, -1.67344521e+00],\n",
              "       [-5.67705954e-01,  2.47844051e-01],\n",
              "       [ 8.68676552e-01, -4.73912750e-01],\n",
              "       [ 1.73495388e+00, -2.60646482e-01],\n",
              "       [-8.48859618e-01, -3.34855788e-01],\n",
              "       [ 4.51227871e-01, -2.47717641e-01],\n",
              "       [ 2.47541892e-01,  1.01216405e+00],\n",
              "       [-1.52407055e+00,  5.06057229e-02],\n",
              "       [-1.73227674e+00, -4.20272294e-03],\n",
              "       [-1.59487148e-01, -1.20506291e+00],\n",
              "       [-1.00316085e+00, -2.97094031e+00],\n",
              "       [ 2.09957836e+00, -1.23687549e-01],\n",
              "       [-5.37893869e-01, -1.43991307e+00],\n",
              "       [-2.15167492e-01, -9.25516347e-01],\n",
              "       [-5.79829426e-01,  8.78417486e-01],\n",
              "       [ 4.95211500e-01, -7.30504940e-01],\n",
              "       [ 1.69373854e+00, -8.89364258e-01],\n",
              "       [ 1.12397793e-01, -1.31687578e+00],\n",
              "       [ 1.46911873e+00, -3.81070967e-01],\n",
              "       [-6.45080000e-01,  3.05897493e+00],\n",
              "       [ 1.18340195e+00,  6.72337768e-01],\n",
              "       [ 8.75116839e-01, -7.41292621e-02],\n",
              "       [ 4.21981471e-01, -2.68721134e+00],\n",
              "       [ 3.43345332e-01,  1.23790547e-01],\n",
              "       [ 5.21922645e-01,  8.31891968e-01],\n",
              "       [ 1.13395788e+00,  1.90246433e+00],\n",
              "       [ 1.83794435e+00, -6.87952874e-01],\n",
              "       [ 2.58524495e-01, -2.77122647e+00],\n",
              "       [ 2.36417849e-01,  9.91597626e-01],\n",
              "       [ 4.36911535e-01, -8.72478814e-02],\n",
              "       [-5.55118429e-02,  3.28859722e-01],\n",
              "       [ 4.15215420e-01, -2.43353068e-01],\n",
              "       [-1.95085662e+00,  1.27632827e-01],\n",
              "       [ 8.86576727e-01, -5.24310028e-01],\n",
              "       [ 9.30755177e-03, -8.69966596e-01],\n",
              "       [ 6.53863254e-01, -1.36330713e+00],\n",
              "       [ 8.15693994e-01,  1.61086439e+00],\n",
              "       [-7.26036244e-01,  7.16109213e-01],\n",
              "       [-7.67897956e-01,  2.60213435e-01],\n",
              "       [-1.05059534e+00,  7.06118306e-01],\n",
              "       [ 8.57505261e-02,  4.93361756e-01],\n",
              "       [ 5.03413416e-01,  2.96176767e-01],\n",
              "       [ 4.23888283e-01, -2.28904520e-01],\n",
              "       [ 1.86316475e-01, -2.60183343e-01],\n",
              "       [-1.18474630e+00,  9.39440397e-02],\n",
              "       [ 5.88189924e-01, -3.90570466e-01],\n",
              "       [-1.39832972e+00, -1.20398687e+00],\n",
              "       [ 2.10388913e-01, -1.43383936e+00],\n",
              "       [ 2.32334493e-01, -3.23372191e-02],\n",
              "       [-2.22601520e-01,  3.06913286e-01],\n",
              "       [-1.78602930e-01,  9.16799491e-01],\n",
              "       [-6.68868732e-01,  4.41165199e-01],\n",
              "       [-1.96137497e-01, -1.19336968e+00],\n",
              "       [-4.79670925e-01, -1.75864232e-01],\n",
              "       [-8.87074021e-01,  1.87440991e-01],\n",
              "       [ 6.37675271e-01,  6.65329692e-01],\n",
              "       [-1.15874758e-03,  3.35339687e-01],\n",
              "       [-6.80459864e-01, -2.38352586e-01],\n",
              "       [-1.58616935e-01,  9.21626367e-02],\n",
              "       [ 4.39374048e-03,  1.34051191e+00],\n",
              "       [-1.51584930e+00, -3.65407690e-03],\n",
              "       [-1.56718611e+00, -3.12596018e-01],\n",
              "       [ 1.00135246e+00, -6.98385798e-02],\n",
              "       [-1.85768648e-01, -1.45572068e+00],\n",
              "       [-3.39055383e-01,  6.04083260e-01],\n",
              "       [-7.30892184e-01, -6.23478557e-02],\n",
              "       [-2.53240071e-01,  6.55230485e-01],\n",
              "       [-8.97009421e-01,  1.40980193e+00],\n",
              "       [-1.44561741e+00,  5.71246431e-01],\n",
              "       [ 9.22084103e-01, -1.28019427e-01],\n",
              "       [ 1.59882678e+00,  2.49395568e-01],\n",
              "       [ 4.28732964e-01, -1.52804813e+00],\n",
              "       [ 1.18126876e+00,  5.75979880e-01],\n",
              "       [ 1.75224976e-01, -4.31324089e-01],\n",
              "       [ 1.20264644e+00, -1.70440234e+00],\n",
              "       [ 4.59515993e-02,  5.58588337e-01],\n",
              "       [-5.94415284e-01,  4.05015596e-01],\n",
              "       [ 1.74187974e+00,  1.04371446e-01],\n",
              "       [-6.13082327e-01,  7.09967818e-01],\n",
              "       [-5.20374417e-01, -1.07173015e+00],\n",
              "       [ 8.78859075e-01, -8.14296932e-02],\n",
              "       [-1.29204838e+00,  1.53415272e-02],\n",
              "       [ 3.83087417e-01, -1.12681120e-01],\n",
              "       [ 3.06782938e+00, -4.18620199e-01],\n",
              "       [-6.35132202e-01, -1.99007327e+00],\n",
              "       [ 5.44458541e-01,  9.94968806e-01],\n",
              "       [-2.27983126e+00,  1.11851645e-02],\n",
              "       [ 6.01981920e-01,  7.82114713e-01],\n",
              "       [-4.03415684e-01,  4.40450442e-01],\n",
              "       [ 1.67938327e+00, -2.96497836e+00]])"
            ]
          },
          "metadata": {},
          "execution_count": 4
        }
      ]
    },
    {
      "cell_type": "code",
      "source": [
        "y"
      ],
      "metadata": {
        "colab": {
          "base_uri": "https://localhost:8080/"
        },
        "id": "UDBqlhIx_gbQ",
        "outputId": "4a852485-1e71-4428-9011-22afcdb352cb"
      },
      "execution_count": 5,
      "outputs": [
        {
          "output_type": "execute_result",
          "data": {
            "text/plain": [
              "array([ 102.07844023,   99.18257532,   65.90816326,  -88.10276411,\n",
              "        100.5612529 ,   74.10188298,  122.36188546,  177.9832017 ,\n",
              "       -119.80922196,  -85.15853157,  -17.08895201,  -70.33321324,\n",
              "        133.76818164,  123.97322456, -129.09145043,   51.16392242,\n",
              "         55.08626219, -148.69935265, -175.29713996,   31.53854289,\n",
              "       -235.11453417,  192.65714158,  -63.62096008,  -66.94546599,\n",
              "       -137.76344444,   38.17926658,   47.36541088,   -2.02368648,\n",
              "        159.03137744,  -13.08600793,  128.82584898,  106.9584907 ,\n",
              "       -184.82139667,   53.71637385,  130.78749867,  195.85144829,\n",
              "        125.87420298,  -47.48964903,   46.52819915,   58.32357763,\n",
              "         -4.519394  ,   29.36593722, -207.00088635,   -1.4402607 ,\n",
              "         47.59951534,   40.95082688,  138.95638574,  -50.47013476,\n",
              "        -32.08962768,    9.55247431,   16.08243978,   72.11091583,\n",
              "         70.2386835 ,   -1.9813555 , -109.97485179,   14.26257332,\n",
              "       -225.01899797,  -38.7612069 ,   40.18539309,  -47.61365917,\n",
              "        -49.65882306,  -11.09545985,  -48.48103423,  -71.45100766,\n",
              "          9.29702709,  121.29889642,   -7.44437683, -114.76445344,\n",
              "        -17.58873461,  115.17476441, -192.10997839, -143.83211101,\n",
              "         48.59252453,    7.10106381,  -14.08822476, -131.23219585,\n",
              "         10.59688183,  -88.42647951,  -66.17798927,   86.66647434,\n",
              "        238.74370571,   20.27603371,  148.61558965,   65.32165186,\n",
              "          4.50608157,    8.36067522,  -33.23948007,  163.42292798,\n",
              "        -69.79059201,  -48.21861701,   79.87710485, -169.56344107,\n",
              "         52.04025254,  273.8025042 , -108.84077959,  154.84045628,\n",
              "       -162.92422681,   58.07714718,  -66.29332829,   83.12241455])"
            ]
          },
          "metadata": {},
          "execution_count": 5
        }
      ]
    },
    {
      "cell_type": "code",
      "source": [
        "df = pd.DataFrame({'feature1':x[:,0], 'feature2':x[:,1], 'target':y})"
      ],
      "metadata": {
        "id": "BuoK1mY9_O2Z"
      },
      "execution_count": 6,
      "outputs": []
    },
    {
      "cell_type": "code",
      "source": [
        "df.head()"
      ],
      "metadata": {
        "colab": {
          "base_uri": "https://localhost:8080/",
          "height": 206
        },
        "id": "6Dfs0tbs_kdZ",
        "outputId": "c3e900ab-4293-4793-8517-488124dc92a8"
      },
      "execution_count": 8,
      "outputs": [
        {
          "output_type": "execute_result",
          "data": {
            "text/plain": [
              "   feature1  feature2      target\n",
              "0  0.658840  0.035202  102.078440\n",
              "1 -0.097320  0.375858   99.182575\n",
              "2  0.603479  0.664456   65.908163\n",
              "3 -0.962720 -1.150012  -88.102764\n",
              "4 -0.368761  0.358419  100.561253"
            ],
            "text/html": [
              "\n",
              "  <div id=\"df-faff2d91-4ab7-49e4-a184-a73061520c89\" class=\"colab-df-container\">\n",
              "    <div>\n",
              "<style scoped>\n",
              "    .dataframe tbody tr th:only-of-type {\n",
              "        vertical-align: middle;\n",
              "    }\n",
              "\n",
              "    .dataframe tbody tr th {\n",
              "        vertical-align: top;\n",
              "    }\n",
              "\n",
              "    .dataframe thead th {\n",
              "        text-align: right;\n",
              "    }\n",
              "</style>\n",
              "<table border=\"1\" class=\"dataframe\">\n",
              "  <thead>\n",
              "    <tr style=\"text-align: right;\">\n",
              "      <th></th>\n",
              "      <th>feature1</th>\n",
              "      <th>feature2</th>\n",
              "      <th>target</th>\n",
              "    </tr>\n",
              "  </thead>\n",
              "  <tbody>\n",
              "    <tr>\n",
              "      <th>0</th>\n",
              "      <td>0.658840</td>\n",
              "      <td>0.035202</td>\n",
              "      <td>102.078440</td>\n",
              "    </tr>\n",
              "    <tr>\n",
              "      <th>1</th>\n",
              "      <td>-0.097320</td>\n",
              "      <td>0.375858</td>\n",
              "      <td>99.182575</td>\n",
              "    </tr>\n",
              "    <tr>\n",
              "      <th>2</th>\n",
              "      <td>0.603479</td>\n",
              "      <td>0.664456</td>\n",
              "      <td>65.908163</td>\n",
              "    </tr>\n",
              "    <tr>\n",
              "      <th>3</th>\n",
              "      <td>-0.962720</td>\n",
              "      <td>-1.150012</td>\n",
              "      <td>-88.102764</td>\n",
              "    </tr>\n",
              "    <tr>\n",
              "      <th>4</th>\n",
              "      <td>-0.368761</td>\n",
              "      <td>0.358419</td>\n",
              "      <td>100.561253</td>\n",
              "    </tr>\n",
              "  </tbody>\n",
              "</table>\n",
              "</div>\n",
              "    <div class=\"colab-df-buttons\">\n",
              "\n",
              "  <div class=\"colab-df-container\">\n",
              "    <button class=\"colab-df-convert\" onclick=\"convertToInteractive('df-faff2d91-4ab7-49e4-a184-a73061520c89')\"\n",
              "            title=\"Convert this dataframe to an interactive table.\"\n",
              "            style=\"display:none;\">\n",
              "\n",
              "  <svg xmlns=\"http://www.w3.org/2000/svg\" height=\"24px\" viewBox=\"0 -960 960 960\">\n",
              "    <path d=\"M120-120v-720h720v720H120Zm60-500h600v-160H180v160Zm220 220h160v-160H400v160Zm0 220h160v-160H400v160ZM180-400h160v-160H180v160Zm440 0h160v-160H620v160ZM180-180h160v-160H180v160Zm440 0h160v-160H620v160Z\"/>\n",
              "  </svg>\n",
              "    </button>\n",
              "\n",
              "  <style>\n",
              "    .colab-df-container {\n",
              "      display:flex;\n",
              "      gap: 12px;\n",
              "    }\n",
              "\n",
              "    .colab-df-convert {\n",
              "      background-color: #E8F0FE;\n",
              "      border: none;\n",
              "      border-radius: 50%;\n",
              "      cursor: pointer;\n",
              "      display: none;\n",
              "      fill: #1967D2;\n",
              "      height: 32px;\n",
              "      padding: 0 0 0 0;\n",
              "      width: 32px;\n",
              "    }\n",
              "\n",
              "    .colab-df-convert:hover {\n",
              "      background-color: #E2EBFA;\n",
              "      box-shadow: 0px 1px 2px rgba(60, 64, 67, 0.3), 0px 1px 3px 1px rgba(60, 64, 67, 0.15);\n",
              "      fill: #174EA6;\n",
              "    }\n",
              "\n",
              "    .colab-df-buttons div {\n",
              "      margin-bottom: 4px;\n",
              "    }\n",
              "\n",
              "    [theme=dark] .colab-df-convert {\n",
              "      background-color: #3B4455;\n",
              "      fill: #D2E3FC;\n",
              "    }\n",
              "\n",
              "    [theme=dark] .colab-df-convert:hover {\n",
              "      background-color: #434B5C;\n",
              "      box-shadow: 0px 1px 3px 1px rgba(0, 0, 0, 0.15);\n",
              "      filter: drop-shadow(0px 1px 2px rgba(0, 0, 0, 0.3));\n",
              "      fill: #FFFFFF;\n",
              "    }\n",
              "  </style>\n",
              "\n",
              "    <script>\n",
              "      const buttonEl =\n",
              "        document.querySelector('#df-faff2d91-4ab7-49e4-a184-a73061520c89 button.colab-df-convert');\n",
              "      buttonEl.style.display =\n",
              "        google.colab.kernel.accessAllowed ? 'block' : 'none';\n",
              "\n",
              "      async function convertToInteractive(key) {\n",
              "        const element = document.querySelector('#df-faff2d91-4ab7-49e4-a184-a73061520c89');\n",
              "        const dataTable =\n",
              "          await google.colab.kernel.invokeFunction('convertToInteractive',\n",
              "                                                    [key], {});\n",
              "        if (!dataTable) return;\n",
              "\n",
              "        const docLinkHtml = 'Like what you see? Visit the ' +\n",
              "          '<a target=\"_blank\" href=https://colab.research.google.com/notebooks/data_table.ipynb>data table notebook</a>'\n",
              "          + ' to learn more about interactive tables.';\n",
              "        element.innerHTML = '';\n",
              "        dataTable['output_type'] = 'display_data';\n",
              "        await google.colab.output.renderOutput(dataTable, element);\n",
              "        const docLink = document.createElement('div');\n",
              "        docLink.innerHTML = docLinkHtml;\n",
              "        element.appendChild(docLink);\n",
              "      }\n",
              "    </script>\n",
              "  </div>\n",
              "\n",
              "\n",
              "<div id=\"df-2eb18ff5-8a23-4242-9f95-7ba6461c0a64\">\n",
              "  <button class=\"colab-df-quickchart\" onclick=\"quickchart('df-2eb18ff5-8a23-4242-9f95-7ba6461c0a64')\"\n",
              "            title=\"Suggest charts\"\n",
              "            style=\"display:none;\">\n",
              "\n",
              "<svg xmlns=\"http://www.w3.org/2000/svg\" height=\"24px\"viewBox=\"0 0 24 24\"\n",
              "     width=\"24px\">\n",
              "    <g>\n",
              "        <path d=\"M19 3H5c-1.1 0-2 .9-2 2v14c0 1.1.9 2 2 2h14c1.1 0 2-.9 2-2V5c0-1.1-.9-2-2-2zM9 17H7v-7h2v7zm4 0h-2V7h2v10zm4 0h-2v-4h2v4z\"/>\n",
              "    </g>\n",
              "</svg>\n",
              "  </button>\n",
              "\n",
              "<style>\n",
              "  .colab-df-quickchart {\n",
              "      --bg-color: #E8F0FE;\n",
              "      --fill-color: #1967D2;\n",
              "      --hover-bg-color: #E2EBFA;\n",
              "      --hover-fill-color: #174EA6;\n",
              "      --disabled-fill-color: #AAA;\n",
              "      --disabled-bg-color: #DDD;\n",
              "  }\n",
              "\n",
              "  [theme=dark] .colab-df-quickchart {\n",
              "      --bg-color: #3B4455;\n",
              "      --fill-color: #D2E3FC;\n",
              "      --hover-bg-color: #434B5C;\n",
              "      --hover-fill-color: #FFFFFF;\n",
              "      --disabled-bg-color: #3B4455;\n",
              "      --disabled-fill-color: #666;\n",
              "  }\n",
              "\n",
              "  .colab-df-quickchart {\n",
              "    background-color: var(--bg-color);\n",
              "    border: none;\n",
              "    border-radius: 50%;\n",
              "    cursor: pointer;\n",
              "    display: none;\n",
              "    fill: var(--fill-color);\n",
              "    height: 32px;\n",
              "    padding: 0;\n",
              "    width: 32px;\n",
              "  }\n",
              "\n",
              "  .colab-df-quickchart:hover {\n",
              "    background-color: var(--hover-bg-color);\n",
              "    box-shadow: 0 1px 2px rgba(60, 64, 67, 0.3), 0 1px 3px 1px rgba(60, 64, 67, 0.15);\n",
              "    fill: var(--button-hover-fill-color);\n",
              "  }\n",
              "\n",
              "  .colab-df-quickchart-complete:disabled,\n",
              "  .colab-df-quickchart-complete:disabled:hover {\n",
              "    background-color: var(--disabled-bg-color);\n",
              "    fill: var(--disabled-fill-color);\n",
              "    box-shadow: none;\n",
              "  }\n",
              "\n",
              "  .colab-df-spinner {\n",
              "    border: 2px solid var(--fill-color);\n",
              "    border-color: transparent;\n",
              "    border-bottom-color: var(--fill-color);\n",
              "    animation:\n",
              "      spin 1s steps(1) infinite;\n",
              "  }\n",
              "\n",
              "  @keyframes spin {\n",
              "    0% {\n",
              "      border-color: transparent;\n",
              "      border-bottom-color: var(--fill-color);\n",
              "      border-left-color: var(--fill-color);\n",
              "    }\n",
              "    20% {\n",
              "      border-color: transparent;\n",
              "      border-left-color: var(--fill-color);\n",
              "      border-top-color: var(--fill-color);\n",
              "    }\n",
              "    30% {\n",
              "      border-color: transparent;\n",
              "      border-left-color: var(--fill-color);\n",
              "      border-top-color: var(--fill-color);\n",
              "      border-right-color: var(--fill-color);\n",
              "    }\n",
              "    40% {\n",
              "      border-color: transparent;\n",
              "      border-right-color: var(--fill-color);\n",
              "      border-top-color: var(--fill-color);\n",
              "    }\n",
              "    60% {\n",
              "      border-color: transparent;\n",
              "      border-right-color: var(--fill-color);\n",
              "    }\n",
              "    80% {\n",
              "      border-color: transparent;\n",
              "      border-right-color: var(--fill-color);\n",
              "      border-bottom-color: var(--fill-color);\n",
              "    }\n",
              "    90% {\n",
              "      border-color: transparent;\n",
              "      border-bottom-color: var(--fill-color);\n",
              "    }\n",
              "  }\n",
              "</style>\n",
              "\n",
              "  <script>\n",
              "    async function quickchart(key) {\n",
              "      const quickchartButtonEl =\n",
              "        document.querySelector('#' + key + ' button');\n",
              "      quickchartButtonEl.disabled = true;  // To prevent multiple clicks.\n",
              "      quickchartButtonEl.classList.add('colab-df-spinner');\n",
              "      try {\n",
              "        const charts = await google.colab.kernel.invokeFunction(\n",
              "            'suggestCharts', [key], {});\n",
              "      } catch (error) {\n",
              "        console.error('Error during call to suggestCharts:', error);\n",
              "      }\n",
              "      quickchartButtonEl.classList.remove('colab-df-spinner');\n",
              "      quickchartButtonEl.classList.add('colab-df-quickchart-complete');\n",
              "    }\n",
              "    (() => {\n",
              "      let quickchartButtonEl =\n",
              "        document.querySelector('#df-2eb18ff5-8a23-4242-9f95-7ba6461c0a64 button');\n",
              "      quickchartButtonEl.style.display =\n",
              "        google.colab.kernel.accessAllowed ? 'block' : 'none';\n",
              "    })();\n",
              "  </script>\n",
              "</div>\n",
              "\n",
              "    </div>\n",
              "  </div>\n"
            ],
            "application/vnd.google.colaboratory.intrinsic+json": {
              "type": "dataframe",
              "variable_name": "df",
              "summary": "{\n  \"name\": \"df\",\n  \"rows\": 100,\n  \"fields\": [\n    {\n      \"column\": \"feature1\",\n      \"properties\": {\n        \"dtype\": \"number\",\n        \"std\": 0.9601177413365608,\n        \"min\": -2.279831256771053,\n        \"max\": 3.067829376449481,\n        \"num_unique_values\": 100,\n        \"samples\": [\n          0.17522497635566636,\n          0.18631647545883953,\n          -1.5158492955149623\n        ],\n        \"semantic_type\": \"\",\n        \"description\": \"\"\n      }\n    },\n    {\n      \"column\": \"feature2\",\n      \"properties\": {\n        \"dtype\": \"number\",\n        \"std\": 1.0178435739341976,\n        \"min\": -2.9709403144315627,\n        \"max\": 3.0589749310231413,\n        \"num_unique_values\": 100,\n        \"samples\": [\n          -0.43132408941308276,\n          -0.26018334275216726,\n          -0.0036540768973721367\n        ],\n        \"semantic_type\": \"\",\n        \"description\": \"\"\n      }\n    },\n    {\n      \"column\": \"target\",\n      \"properties\": {\n        \"dtype\": \"number\",\n        \"std\": 106.63673223916442,\n        \"min\": -235.1145341688265,\n        \"max\": 273.80250419997077,\n        \"num_unique_values\": 100,\n        \"samples\": [\n          65.32165186091612,\n          -1.9813554993850548,\n          -192.10997838649905\n        ],\n        \"semantic_type\": \"\",\n        \"description\": \"\"\n      }\n    }\n  ]\n}"
            }
          },
          "metadata": {},
          "execution_count": 8
        }
      ]
    },
    {
      "cell_type": "code",
      "source": [
        "df.shape"
      ],
      "metadata": {
        "colab": {
          "base_uri": "https://localhost:8080/"
        },
        "id": "jP8kXP3P_oZK",
        "outputId": "b78be4ee-159f-42ac-d086-e021bde50136"
      },
      "execution_count": 9,
      "outputs": [
        {
          "output_type": "execute_result",
          "data": {
            "text/plain": [
              "(100, 3)"
            ]
          },
          "metadata": {},
          "execution_count": 9
        }
      ]
    },
    {
      "cell_type": "code",
      "source": [
        "fig = px.scatter_3d(df, x='feature1', y='feature2', z='target')\n",
        "fig.show()"
      ],
      "metadata": {
        "colab": {
          "base_uri": "https://localhost:8080/",
          "height": 542
        },
        "id": "GfhJxXOO_tYN",
        "outputId": "7e8c0656-138c-4227-fabb-d3a8c97252c1"
      },
      "execution_count": 11,
      "outputs": [
        {
          "output_type": "display_data",
          "data": {
            "text/html": [
              "<html>\n",
              "<head><meta charset=\"utf-8\" /></head>\n",
              "<body>\n",
              "    <div>            <script src=\"https://cdnjs.cloudflare.com/ajax/libs/mathjax/2.7.5/MathJax.js?config=TeX-AMS-MML_SVG\"></script><script type=\"text/javascript\">if (window.MathJax && window.MathJax.Hub && window.MathJax.Hub.Config) {window.MathJax.Hub.Config({SVG: {font: \"STIX-Web\"}});}</script>                <script type=\"text/javascript\">window.PlotlyConfig = {MathJaxConfig: 'local'};</script>\n",
              "        <script charset=\"utf-8\" src=\"https://cdn.plot.ly/plotly-2.24.1.min.js\"></script>                <div id=\"44eddbe9-d587-41ff-b9b6-0b00480f1d0d\" class=\"plotly-graph-div\" style=\"height:525px; width:100%;\"></div>            <script type=\"text/javascript\">                                    window.PLOTLYENV=window.PLOTLYENV || {};                                    if (document.getElementById(\"44eddbe9-d587-41ff-b9b6-0b00480f1d0d\")) {                    Plotly.newPlot(                        \"44eddbe9-d587-41ff-b9b6-0b00480f1d0d\",                        [{\"hovertemplate\":\"feature1=%{x}\\u003cbr\\u003efeature2=%{y}\\u003cbr\\u003etarget=%{z}\\u003cextra\\u003e\\u003c\\u002fextra\\u003e\",\"legendgroup\":\"\",\"marker\":{\"color\":\"#636efa\",\"symbol\":\"circle\"},\"mode\":\"markers\",\"name\":\"\",\"scene\":\"scene\",\"showlegend\":false,\"x\":[0.6588401993225113,-0.0973196643109446,0.6034791103284118,-0.9627204650101457,-0.368760527746314,0.6198362907751791,1.3294306042885984,1.0423487374699953,-0.8446698831347769,-0.32451353718485854,0.07853768092030243,-0.5677059542282863,0.8686765523872287,1.7349538849352597,-0.8488596177065487,0.451227870630789,0.24754189233072585,-1.5240705475410288,-1.732276744446153,-0.1594871478197415,-1.00316084802141,2.0995783553254252,-0.537893868950523,-0.21516749159497028,-0.5798294256399262,0.4952114999630775,1.693738543431597,0.11239779276628316,1.4691187274933186,-0.6450800001628971,1.1834019519546388,0.8751168390762949,0.421981470579579,0.3433453324468649,0.5219226449842932,1.133957881266475,1.8379443540647946,0.25852449464693106,0.23641784889504888,0.4369115345636089,-0.05551184292231849,0.4152154204232389,-1.9508566191045653,0.8865767269238323,0.009307551768642074,0.6538632539155107,0.8156939940732862,-0.7260362436216261,-0.7678979555835028,-1.0505953364818745,0.0857505260807005,0.5034134157118307,0.42388828333491685,0.18631647545883953,-1.1847462991343325,0.5881899239694489,-1.3983297155132475,0.21038891340432883,0.23233449289936994,-0.22260152049042217,-0.17860293005272357,-0.6688687319420322,-0.1961374971393844,-0.47967092453316607,-0.8870740212359994,0.6376752705840852,-0.0011587475809582213,-0.6804598642994573,-0.15861693526886014,0.004393740481906142,-1.5158492955149623,-1.5671861075099485,1.0013524632550321,-0.18576864812655575,-0.3390553827012904,-0.7308921835842218,-0.2532400712594603,-0.8970094208153779,-1.4456174077320434,0.9220841033367502,1.598826778772064,0.42873296443112535,1.1812687573443779,0.17522497635566636,1.2026464381954218,0.045951599265543604,-0.5944152836528576,1.74187974415092,-0.6130823274409506,-0.520374416598092,0.878859074601934,-1.2920483805613394,0.3830874170146252,3.067829376449481,-0.6351322015673455,0.5444585407132871,-2.279831256771053,0.6019819197039663,-0.40341568417538104,1.6793832668578232],\"y\":[0.03520174391714974,0.375857606725938,0.6644562945198536,-1.150011840425318,0.3584194554416144,-1.0634644871312358,-0.11370863140477906,1.9593342429894196,0.2113787518122515,0.8210944027247469,-1.6734452140725864,0.24784405098479467,-0.4739127503284885,-0.2606464821031169,-0.3348557875719859,-0.2477176410644973,1.0121640466264106,0.050605722855555015,-0.004202722938022013,-1.2050629080174757,-2.9709403144315627,-0.12368754890552598,-1.4399130689550579,-0.9255163472569174,0.8784174860531891,-0.7305049398995733,-0.8893642581528506,-1.3168757791158634,-0.3810709674333317,3.0589749310231413,0.6723377680880431,-0.0741292621007869,-2.687211339557977,0.12379054714088267,0.8318919678623635,1.9024643307972562,-0.6879528742618142,-2.771226472067929,0.9915976261072212,-0.08724788141115497,0.3288597220671259,-0.24335306781437938,0.12763282670242854,-0.5243100278168501,-0.869966596269338,-1.3633071348615025,1.6108643913114813,0.7161092126031806,0.26021343511609046,0.7061183064886327,0.49336175588166015,0.29617676689080186,-0.22890451999463668,-0.26018334275216726,0.09394403972122757,-0.3905704662752264,-1.2039868707124894,-1.4338393592221907,-0.032337219126133604,0.3069132855139966,0.916799490534821,0.44116519945138016,-1.1933696839057146,-0.17586423204504503,0.1874409912230572,0.665329692088791,0.33533968670565273,-0.23835258585669689,0.09216263669133651,1.3405119126692018,-0.0036540768973721367,-0.31259601845045193,-0.06983857982143639,-1.455720682976001,0.6040832602474017,-0.062347855741224444,0.6552304851250496,1.4098019267832045,0.5712464314067802,-0.12801942742365746,0.24939556778070518,-1.5280481287895122,0.5759798801525173,-0.43132408941308276,-1.7044023399286063,0.5585883365541675,0.40501559648770796,0.10437144639456702,0.7099678179010099,-1.0717301531731316,-0.0814296931674739,0.01534152720093912,-0.11268112029463341,-0.4186201988136075,-1.9900732674624937,0.9949688062698022,0.01118516453030451,0.7821147132144165,0.440450442462929,-2.964978359580645],\"z\":[102.07844022929058,99.1825753183688,65.90816326436676,-88.10276410514201,100.56125289978678,74.10188297694002,122.36188546289806,177.98320170196155,-119.80922196306956,-85.15853156751352,-17.088952010233914,-70.3332132374646,133.7681816438827,123.97322456402337,-129.09145043459495,51.163922424397185,55.086262190487645,-148.69935265163042,-175.29713995899652,31.538542887002713,-235.1145341688265,192.65714158132562,-63.62096007816518,-66.94546599214449,-137.7634444408187,38.179266583632966,47.36541087672056,-2.0236864783727846,159.03137744064077,-13.08600792549888,128.8258489759611,106.9584907001229,-184.82139666983596,53.7163738540623,130.78749867121718,195.85144828629,125.87420297696937,-47.48964902650181,46.52819914791714,58.3235776275576,-4.5193939988573515,29.365937224585593,-207.00088635066288,-1.4402606968914142,47.599515338657575,40.95082688377828,138.95638573503908,-50.47013475705748,-32.089627676452864,9.5524743121465,16.082439776853498,72.11091582696659,70.23868350358491,-1.9813554993850548,-109.97485179356971,14.262573318482588,-225.01899796672092,-38.76120690249749,40.18539308879488,-47.61365916835946,-49.65882306416933,-11.09545985156904,-48.48103422731193,-71.45100765660695,9.297027091666223,121.29889641933786,-7.44437683464675,-114.76445344066768,-17.588734611282927,115.17476441167719,-192.10997838649905,-143.832111013219,48.592524530337485,7.101063809826272,-14.088224760536578,-131.23219585005276,10.596881827981099,-88.42647951290198,-66.17798926956308,86.66647433844153,238.74370570677803,20.276033712834526,148.61558965141708,65.32165186091612,4.506081572349871,8.360675224807135,-33.23948006850569,163.4229279769364,-69.79059200958008,-48.21861700925256,79.87710484838084,-169.56344107421023,52.04025254172886,273.80250419997077,-108.84077958761543,154.84045628476866,-162.92422680583655,58.077147179512984,-66.2933282923424,83.12241455161812],\"type\":\"scatter3d\"}],                        {\"template\":{\"data\":{\"histogram2dcontour\":[{\"type\":\"histogram2dcontour\",\"colorbar\":{\"outlinewidth\":0,\"ticks\":\"\"},\"colorscale\":[[0.0,\"#0d0887\"],[0.1111111111111111,\"#46039f\"],[0.2222222222222222,\"#7201a8\"],[0.3333333333333333,\"#9c179e\"],[0.4444444444444444,\"#bd3786\"],[0.5555555555555556,\"#d8576b\"],[0.6666666666666666,\"#ed7953\"],[0.7777777777777778,\"#fb9f3a\"],[0.8888888888888888,\"#fdca26\"],[1.0,\"#f0f921\"]]}],\"choropleth\":[{\"type\":\"choropleth\",\"colorbar\":{\"outlinewidth\":0,\"ticks\":\"\"}}],\"histogram2d\":[{\"type\":\"histogram2d\",\"colorbar\":{\"outlinewidth\":0,\"ticks\":\"\"},\"colorscale\":[[0.0,\"#0d0887\"],[0.1111111111111111,\"#46039f\"],[0.2222222222222222,\"#7201a8\"],[0.3333333333333333,\"#9c179e\"],[0.4444444444444444,\"#bd3786\"],[0.5555555555555556,\"#d8576b\"],[0.6666666666666666,\"#ed7953\"],[0.7777777777777778,\"#fb9f3a\"],[0.8888888888888888,\"#fdca26\"],[1.0,\"#f0f921\"]]}],\"heatmap\":[{\"type\":\"heatmap\",\"colorbar\":{\"outlinewidth\":0,\"ticks\":\"\"},\"colorscale\":[[0.0,\"#0d0887\"],[0.1111111111111111,\"#46039f\"],[0.2222222222222222,\"#7201a8\"],[0.3333333333333333,\"#9c179e\"],[0.4444444444444444,\"#bd3786\"],[0.5555555555555556,\"#d8576b\"],[0.6666666666666666,\"#ed7953\"],[0.7777777777777778,\"#fb9f3a\"],[0.8888888888888888,\"#fdca26\"],[1.0,\"#f0f921\"]]}],\"heatmapgl\":[{\"type\":\"heatmapgl\",\"colorbar\":{\"outlinewidth\":0,\"ticks\":\"\"},\"colorscale\":[[0.0,\"#0d0887\"],[0.1111111111111111,\"#46039f\"],[0.2222222222222222,\"#7201a8\"],[0.3333333333333333,\"#9c179e\"],[0.4444444444444444,\"#bd3786\"],[0.5555555555555556,\"#d8576b\"],[0.6666666666666666,\"#ed7953\"],[0.7777777777777778,\"#fb9f3a\"],[0.8888888888888888,\"#fdca26\"],[1.0,\"#f0f921\"]]}],\"contourcarpet\":[{\"type\":\"contourcarpet\",\"colorbar\":{\"outlinewidth\":0,\"ticks\":\"\"}}],\"contour\":[{\"type\":\"contour\",\"colorbar\":{\"outlinewidth\":0,\"ticks\":\"\"},\"colorscale\":[[0.0,\"#0d0887\"],[0.1111111111111111,\"#46039f\"],[0.2222222222222222,\"#7201a8\"],[0.3333333333333333,\"#9c179e\"],[0.4444444444444444,\"#bd3786\"],[0.5555555555555556,\"#d8576b\"],[0.6666666666666666,\"#ed7953\"],[0.7777777777777778,\"#fb9f3a\"],[0.8888888888888888,\"#fdca26\"],[1.0,\"#f0f921\"]]}],\"surface\":[{\"type\":\"surface\",\"colorbar\":{\"outlinewidth\":0,\"ticks\":\"\"},\"colorscale\":[[0.0,\"#0d0887\"],[0.1111111111111111,\"#46039f\"],[0.2222222222222222,\"#7201a8\"],[0.3333333333333333,\"#9c179e\"],[0.4444444444444444,\"#bd3786\"],[0.5555555555555556,\"#d8576b\"],[0.6666666666666666,\"#ed7953\"],[0.7777777777777778,\"#fb9f3a\"],[0.8888888888888888,\"#fdca26\"],[1.0,\"#f0f921\"]]}],\"mesh3d\":[{\"type\":\"mesh3d\",\"colorbar\":{\"outlinewidth\":0,\"ticks\":\"\"}}],\"scatter\":[{\"fillpattern\":{\"fillmode\":\"overlay\",\"size\":10,\"solidity\":0.2},\"type\":\"scatter\"}],\"parcoords\":[{\"type\":\"parcoords\",\"line\":{\"colorbar\":{\"outlinewidth\":0,\"ticks\":\"\"}}}],\"scatterpolargl\":[{\"type\":\"scatterpolargl\",\"marker\":{\"colorbar\":{\"outlinewidth\":0,\"ticks\":\"\"}}}],\"bar\":[{\"error_x\":{\"color\":\"#2a3f5f\"},\"error_y\":{\"color\":\"#2a3f5f\"},\"marker\":{\"line\":{\"color\":\"#E5ECF6\",\"width\":0.5},\"pattern\":{\"fillmode\":\"overlay\",\"size\":10,\"solidity\":0.2}},\"type\":\"bar\"}],\"scattergeo\":[{\"type\":\"scattergeo\",\"marker\":{\"colorbar\":{\"outlinewidth\":0,\"ticks\":\"\"}}}],\"scatterpolar\":[{\"type\":\"scatterpolar\",\"marker\":{\"colorbar\":{\"outlinewidth\":0,\"ticks\":\"\"}}}],\"histogram\":[{\"marker\":{\"pattern\":{\"fillmode\":\"overlay\",\"size\":10,\"solidity\":0.2}},\"type\":\"histogram\"}],\"scattergl\":[{\"type\":\"scattergl\",\"marker\":{\"colorbar\":{\"outlinewidth\":0,\"ticks\":\"\"}}}],\"scatter3d\":[{\"type\":\"scatter3d\",\"line\":{\"colorbar\":{\"outlinewidth\":0,\"ticks\":\"\"}},\"marker\":{\"colorbar\":{\"outlinewidth\":0,\"ticks\":\"\"}}}],\"scattermapbox\":[{\"type\":\"scattermapbox\",\"marker\":{\"colorbar\":{\"outlinewidth\":0,\"ticks\":\"\"}}}],\"scatterternary\":[{\"type\":\"scatterternary\",\"marker\":{\"colorbar\":{\"outlinewidth\":0,\"ticks\":\"\"}}}],\"scattercarpet\":[{\"type\":\"scattercarpet\",\"marker\":{\"colorbar\":{\"outlinewidth\":0,\"ticks\":\"\"}}}],\"carpet\":[{\"aaxis\":{\"endlinecolor\":\"#2a3f5f\",\"gridcolor\":\"white\",\"linecolor\":\"white\",\"minorgridcolor\":\"white\",\"startlinecolor\":\"#2a3f5f\"},\"baxis\":{\"endlinecolor\":\"#2a3f5f\",\"gridcolor\":\"white\",\"linecolor\":\"white\",\"minorgridcolor\":\"white\",\"startlinecolor\":\"#2a3f5f\"},\"type\":\"carpet\"}],\"table\":[{\"cells\":{\"fill\":{\"color\":\"#EBF0F8\"},\"line\":{\"color\":\"white\"}},\"header\":{\"fill\":{\"color\":\"#C8D4E3\"},\"line\":{\"color\":\"white\"}},\"type\":\"table\"}],\"barpolar\":[{\"marker\":{\"line\":{\"color\":\"#E5ECF6\",\"width\":0.5},\"pattern\":{\"fillmode\":\"overlay\",\"size\":10,\"solidity\":0.2}},\"type\":\"barpolar\"}],\"pie\":[{\"automargin\":true,\"type\":\"pie\"}]},\"layout\":{\"autotypenumbers\":\"strict\",\"colorway\":[\"#636efa\",\"#EF553B\",\"#00cc96\",\"#ab63fa\",\"#FFA15A\",\"#19d3f3\",\"#FF6692\",\"#B6E880\",\"#FF97FF\",\"#FECB52\"],\"font\":{\"color\":\"#2a3f5f\"},\"hovermode\":\"closest\",\"hoverlabel\":{\"align\":\"left\"},\"paper_bgcolor\":\"white\",\"plot_bgcolor\":\"#E5ECF6\",\"polar\":{\"bgcolor\":\"#E5ECF6\",\"angularaxis\":{\"gridcolor\":\"white\",\"linecolor\":\"white\",\"ticks\":\"\"},\"radialaxis\":{\"gridcolor\":\"white\",\"linecolor\":\"white\",\"ticks\":\"\"}},\"ternary\":{\"bgcolor\":\"#E5ECF6\",\"aaxis\":{\"gridcolor\":\"white\",\"linecolor\":\"white\",\"ticks\":\"\"},\"baxis\":{\"gridcolor\":\"white\",\"linecolor\":\"white\",\"ticks\":\"\"},\"caxis\":{\"gridcolor\":\"white\",\"linecolor\":\"white\",\"ticks\":\"\"}},\"coloraxis\":{\"colorbar\":{\"outlinewidth\":0,\"ticks\":\"\"}},\"colorscale\":{\"sequential\":[[0.0,\"#0d0887\"],[0.1111111111111111,\"#46039f\"],[0.2222222222222222,\"#7201a8\"],[0.3333333333333333,\"#9c179e\"],[0.4444444444444444,\"#bd3786\"],[0.5555555555555556,\"#d8576b\"],[0.6666666666666666,\"#ed7953\"],[0.7777777777777778,\"#fb9f3a\"],[0.8888888888888888,\"#fdca26\"],[1.0,\"#f0f921\"]],\"sequentialminus\":[[0.0,\"#0d0887\"],[0.1111111111111111,\"#46039f\"],[0.2222222222222222,\"#7201a8\"],[0.3333333333333333,\"#9c179e\"],[0.4444444444444444,\"#bd3786\"],[0.5555555555555556,\"#d8576b\"],[0.6666666666666666,\"#ed7953\"],[0.7777777777777778,\"#fb9f3a\"],[0.8888888888888888,\"#fdca26\"],[1.0,\"#f0f921\"]],\"diverging\":[[0,\"#8e0152\"],[0.1,\"#c51b7d\"],[0.2,\"#de77ae\"],[0.3,\"#f1b6da\"],[0.4,\"#fde0ef\"],[0.5,\"#f7f7f7\"],[0.6,\"#e6f5d0\"],[0.7,\"#b8e186\"],[0.8,\"#7fbc41\"],[0.9,\"#4d9221\"],[1,\"#276419\"]]},\"xaxis\":{\"gridcolor\":\"white\",\"linecolor\":\"white\",\"ticks\":\"\",\"title\":{\"standoff\":15},\"zerolinecolor\":\"white\",\"automargin\":true,\"zerolinewidth\":2},\"yaxis\":{\"gridcolor\":\"white\",\"linecolor\":\"white\",\"ticks\":\"\",\"title\":{\"standoff\":15},\"zerolinecolor\":\"white\",\"automargin\":true,\"zerolinewidth\":2},\"scene\":{\"xaxis\":{\"backgroundcolor\":\"#E5ECF6\",\"gridcolor\":\"white\",\"linecolor\":\"white\",\"showbackground\":true,\"ticks\":\"\",\"zerolinecolor\":\"white\",\"gridwidth\":2},\"yaxis\":{\"backgroundcolor\":\"#E5ECF6\",\"gridcolor\":\"white\",\"linecolor\":\"white\",\"showbackground\":true,\"ticks\":\"\",\"zerolinecolor\":\"white\",\"gridwidth\":2},\"zaxis\":{\"backgroundcolor\":\"#E5ECF6\",\"gridcolor\":\"white\",\"linecolor\":\"white\",\"showbackground\":true,\"ticks\":\"\",\"zerolinecolor\":\"white\",\"gridwidth\":2}},\"shapedefaults\":{\"line\":{\"color\":\"#2a3f5f\"}},\"annotationdefaults\":{\"arrowcolor\":\"#2a3f5f\",\"arrowhead\":0,\"arrowwidth\":1},\"geo\":{\"bgcolor\":\"white\",\"landcolor\":\"#E5ECF6\",\"subunitcolor\":\"white\",\"showland\":true,\"showlakes\":true,\"lakecolor\":\"white\"},\"title\":{\"x\":0.05},\"mapbox\":{\"style\":\"light\"}}},\"scene\":{\"domain\":{\"x\":[0.0,1.0],\"y\":[0.0,1.0]},\"xaxis\":{\"title\":{\"text\":\"feature1\"}},\"yaxis\":{\"title\":{\"text\":\"feature2\"}},\"zaxis\":{\"title\":{\"text\":\"target\"}}},\"legend\":{\"tracegroupgap\":0},\"margin\":{\"t\":60}},                        {\"responsive\": true}                    ).then(function(){\n",
              "                            \n",
              "var gd = document.getElementById('44eddbe9-d587-41ff-b9b6-0b00480f1d0d');\n",
              "var x = new MutationObserver(function (mutations, observer) {{\n",
              "        var display = window.getComputedStyle(gd).display;\n",
              "        if (!display || display === 'none') {{\n",
              "            console.log([gd, 'removed!']);\n",
              "            Plotly.purge(gd);\n",
              "            observer.disconnect();\n",
              "        }}\n",
              "}});\n",
              "\n",
              "// Listen for the removal of the full notebook cells\n",
              "var notebookContainer = gd.closest('#notebook-container');\n",
              "if (notebookContainer) {{\n",
              "    x.observe(notebookContainer, {childList: true});\n",
              "}}\n",
              "\n",
              "// Listen for the clearing of the current output cell\n",
              "var outputEl = gd.closest('.output');\n",
              "if (outputEl) {{\n",
              "    x.observe(outputEl, {childList: true});\n",
              "}}\n",
              "\n",
              "                        })                };                            </script>        </div>\n",
              "</body>\n",
              "</html>"
            ]
          },
          "metadata": {}
        }
      ]
    },
    {
      "cell_type": "code",
      "source": [
        "from sklearn.model_selection import train_test_split\n",
        "x_train, x_test, y_train, y_test = train_test_split(x, y, test_size=0.2, random_state=3)"
      ],
      "metadata": {
        "id": "w5LTCauwAJWs"
      },
      "execution_count": 12,
      "outputs": []
    },
    {
      "cell_type": "code",
      "source": [
        "from sklearn.linear_model import LinearRegression\n",
        "lr = LinearRegression()\n",
        "lr.fit(x_train, y_train)\n",
        "y_pred = lr.predict(x_test)"
      ],
      "metadata": {
        "id": "yAuw053gAanV"
      },
      "execution_count": 13,
      "outputs": []
    },
    {
      "cell_type": "code",
      "source": [
        "print(\"MAE\", mean_absolute_error(y_test, y_pred))\n",
        "print(\"MSE\", mean_squared_error(y_test, y_pred))\n",
        "print(\"R2 Score\", r2_score(y_test, y_pred))"
      ],
      "metadata": {
        "colab": {
          "base_uri": "https://localhost:8080/"
        },
        "id": "ylw72I6cAvfR",
        "outputId": "444fbd4b-6922-4da4-ceda-ef3e7a58a9d9"
      },
      "execution_count": 14,
      "outputs": [
        {
          "output_type": "stream",
          "name": "stdout",
          "text": [
            "MAE 37.34975693997013\n",
            "MSE 1978.5663165956878\n",
            "R2 Score 0.8624837309256715\n"
          ]
        }
      ]
    },
    {
      "cell_type": "code",
      "source": [
        "import plotly.graph_objects as go\n",
        "x = np.linspace(-5, 5, 10)\n",
        "y = np.linspace(-5, 5, 10)\n",
        "xGrid, yGrid = np.meshgrid(y, x)\n",
        "final = np.vstack((xGrid.ravel().reshape(1,100),yGrid.ravel().reshape(1,100))).T\n",
        "z_final = lr.predict(final).reshape(10,10)\n",
        "\n",
        "z = z_final\n",
        "\n"
      ],
      "metadata": {
        "id": "KSNsqo9CBLvR"
      },
      "execution_count": 17,
      "outputs": []
    },
    {
      "cell_type": "code",
      "source": [
        "fig = px.scatter_3d(df, x='feature1', y='feature2', z='target')\n",
        "\n",
        "fig.add_trace(go.Surface(x = x, y = y, z =z ))\n",
        "\n",
        "fig.show()"
      ],
      "metadata": {
        "colab": {
          "base_uri": "https://localhost:8080/",
          "height": 542
        },
        "id": "LzWh40EVBmPF",
        "outputId": "00e28e1d-6f63-47cf-aaad-c33a6c90e6f4"
      },
      "execution_count": 18,
      "outputs": [
        {
          "output_type": "display_data",
          "data": {
            "text/html": [
              "<html>\n",
              "<head><meta charset=\"utf-8\" /></head>\n",
              "<body>\n",
              "    <div>            <script src=\"https://cdnjs.cloudflare.com/ajax/libs/mathjax/2.7.5/MathJax.js?config=TeX-AMS-MML_SVG\"></script><script type=\"text/javascript\">if (window.MathJax && window.MathJax.Hub && window.MathJax.Hub.Config) {window.MathJax.Hub.Config({SVG: {font: \"STIX-Web\"}});}</script>                <script type=\"text/javascript\">window.PlotlyConfig = {MathJaxConfig: 'local'};</script>\n",
              "        <script charset=\"utf-8\" src=\"https://cdn.plot.ly/plotly-2.24.1.min.js\"></script>                <div id=\"4ad3a630-eac3-43c0-914d-826591e85a29\" class=\"plotly-graph-div\" style=\"height:525px; width:100%;\"></div>            <script type=\"text/javascript\">                                    window.PLOTLYENV=window.PLOTLYENV || {};                                    if (document.getElementById(\"4ad3a630-eac3-43c0-914d-826591e85a29\")) {                    Plotly.newPlot(                        \"4ad3a630-eac3-43c0-914d-826591e85a29\",                        [{\"hovertemplate\":\"feature1=%{x}\\u003cbr\\u003efeature2=%{y}\\u003cbr\\u003etarget=%{z}\\u003cextra\\u003e\\u003c\\u002fextra\\u003e\",\"legendgroup\":\"\",\"marker\":{\"color\":\"#636efa\",\"symbol\":\"circle\"},\"mode\":\"markers\",\"name\":\"\",\"scene\":\"scene\",\"showlegend\":false,\"x\":[0.6588401993225113,-0.0973196643109446,0.6034791103284118,-0.9627204650101457,-0.368760527746314,0.6198362907751791,1.3294306042885984,1.0423487374699953,-0.8446698831347769,-0.32451353718485854,0.07853768092030243,-0.5677059542282863,0.8686765523872287,1.7349538849352597,-0.8488596177065487,0.451227870630789,0.24754189233072585,-1.5240705475410288,-1.732276744446153,-0.1594871478197415,-1.00316084802141,2.0995783553254252,-0.537893868950523,-0.21516749159497028,-0.5798294256399262,0.4952114999630775,1.693738543431597,0.11239779276628316,1.4691187274933186,-0.6450800001628971,1.1834019519546388,0.8751168390762949,0.421981470579579,0.3433453324468649,0.5219226449842932,1.133957881266475,1.8379443540647946,0.25852449464693106,0.23641784889504888,0.4369115345636089,-0.05551184292231849,0.4152154204232389,-1.9508566191045653,0.8865767269238323,0.009307551768642074,0.6538632539155107,0.8156939940732862,-0.7260362436216261,-0.7678979555835028,-1.0505953364818745,0.0857505260807005,0.5034134157118307,0.42388828333491685,0.18631647545883953,-1.1847462991343325,0.5881899239694489,-1.3983297155132475,0.21038891340432883,0.23233449289936994,-0.22260152049042217,-0.17860293005272357,-0.6688687319420322,-0.1961374971393844,-0.47967092453316607,-0.8870740212359994,0.6376752705840852,-0.0011587475809582213,-0.6804598642994573,-0.15861693526886014,0.004393740481906142,-1.5158492955149623,-1.5671861075099485,1.0013524632550321,-0.18576864812655575,-0.3390553827012904,-0.7308921835842218,-0.2532400712594603,-0.8970094208153779,-1.4456174077320434,0.9220841033367502,1.598826778772064,0.42873296443112535,1.1812687573443779,0.17522497635566636,1.2026464381954218,0.045951599265543604,-0.5944152836528576,1.74187974415092,-0.6130823274409506,-0.520374416598092,0.878859074601934,-1.2920483805613394,0.3830874170146252,3.067829376449481,-0.6351322015673455,0.5444585407132871,-2.279831256771053,0.6019819197039663,-0.40341568417538104,1.6793832668578232],\"y\":[0.03520174391714974,0.375857606725938,0.6644562945198536,-1.150011840425318,0.3584194554416144,-1.0634644871312358,-0.11370863140477906,1.9593342429894196,0.2113787518122515,0.8210944027247469,-1.6734452140725864,0.24784405098479467,-0.4739127503284885,-0.2606464821031169,-0.3348557875719859,-0.2477176410644973,1.0121640466264106,0.050605722855555015,-0.004202722938022013,-1.2050629080174757,-2.9709403144315627,-0.12368754890552598,-1.4399130689550579,-0.9255163472569174,0.8784174860531891,-0.7305049398995733,-0.8893642581528506,-1.3168757791158634,-0.3810709674333317,3.0589749310231413,0.6723377680880431,-0.0741292621007869,-2.687211339557977,0.12379054714088267,0.8318919678623635,1.9024643307972562,-0.6879528742618142,-2.771226472067929,0.9915976261072212,-0.08724788141115497,0.3288597220671259,-0.24335306781437938,0.12763282670242854,-0.5243100278168501,-0.869966596269338,-1.3633071348615025,1.6108643913114813,0.7161092126031806,0.26021343511609046,0.7061183064886327,0.49336175588166015,0.29617676689080186,-0.22890451999463668,-0.26018334275216726,0.09394403972122757,-0.3905704662752264,-1.2039868707124894,-1.4338393592221907,-0.032337219126133604,0.3069132855139966,0.916799490534821,0.44116519945138016,-1.1933696839057146,-0.17586423204504503,0.1874409912230572,0.665329692088791,0.33533968670565273,-0.23835258585669689,0.09216263669133651,1.3405119126692018,-0.0036540768973721367,-0.31259601845045193,-0.06983857982143639,-1.455720682976001,0.6040832602474017,-0.062347855741224444,0.6552304851250496,1.4098019267832045,0.5712464314067802,-0.12801942742365746,0.24939556778070518,-1.5280481287895122,0.5759798801525173,-0.43132408941308276,-1.7044023399286063,0.5585883365541675,0.40501559648770796,0.10437144639456702,0.7099678179010099,-1.0717301531731316,-0.0814296931674739,0.01534152720093912,-0.11268112029463341,-0.4186201988136075,-1.9900732674624937,0.9949688062698022,0.01118516453030451,0.7821147132144165,0.440450442462929,-2.964978359580645],\"z\":[102.07844022929058,99.1825753183688,65.90816326436676,-88.10276410514201,100.56125289978678,74.10188297694002,122.36188546289806,177.98320170196155,-119.80922196306956,-85.15853156751352,-17.088952010233914,-70.3332132374646,133.7681816438827,123.97322456402337,-129.09145043459495,51.163922424397185,55.086262190487645,-148.69935265163042,-175.29713995899652,31.538542887002713,-235.1145341688265,192.65714158132562,-63.62096007816518,-66.94546599214449,-137.7634444408187,38.179266583632966,47.36541087672056,-2.0236864783727846,159.03137744064077,-13.08600792549888,128.8258489759611,106.9584907001229,-184.82139666983596,53.7163738540623,130.78749867121718,195.85144828629,125.87420297696937,-47.48964902650181,46.52819914791714,58.3235776275576,-4.5193939988573515,29.365937224585593,-207.00088635066288,-1.4402606968914142,47.599515338657575,40.95082688377828,138.95638573503908,-50.47013475705748,-32.089627676452864,9.5524743121465,16.082439776853498,72.11091582696659,70.23868350358491,-1.9813554993850548,-109.97485179356971,14.262573318482588,-225.01899796672092,-38.76120690249749,40.18539308879488,-47.61365916835946,-49.65882306416933,-11.09545985156904,-48.48103422731193,-71.45100765660695,9.297027091666223,121.29889641933786,-7.44437683464675,-114.76445344066768,-17.588734611282927,115.17476441167719,-192.10997838649905,-143.832111013219,48.592524530337485,7.101063809826272,-14.088224760536578,-131.23219585005276,10.596881827981099,-88.42647951290198,-66.17798926956308,86.66647433844153,238.74370570677803,20.276033712834526,148.61558965141708,65.32165186091612,4.506081572349871,8.360675224807135,-33.23948006850569,163.4229279769364,-69.79059200958008,-48.21861700925256,79.87710484838084,-169.56344107421023,52.04025254172886,273.80250419997077,-108.84077958761543,154.84045628476866,-162.92422680583655,58.077147179512984,-66.2933282923424,83.12241455161812],\"type\":\"scatter3d\"},{\"x\":[-5.0,-3.888888888888889,-2.7777777777777777,-1.6666666666666665,-0.5555555555555554,0.5555555555555554,1.666666666666667,2.7777777777777786,3.8888888888888893,5.0],\"y\":[-5.0,-3.888888888888889,-2.7777777777777777,-1.6666666666666665,-0.5555555555555554,0.5555555555555554,1.666666666666667,2.7777777777777786,3.8888888888888893,5.0],\"z\":[[-650.3426878912378,-543.4131747101499,-436.48366152906175,-329.5541483479738,-222.62463516688584,-115.6951219857979,-8.76560880470987,98.16390437637816,205.09341755746604,312.022930738554],[-611.5827857773547,-504.6532725962668,-397.7237594151788,-290.79424623409085,-183.86473305300288,-76.93521987191494,29.994293309173088,136.92380649026111,243.853319671349,350.78283285243697],[-572.8228836634718,-465.89337048238383,-358.96385730129583,-252.03434412020786,-145.1048309391199,-38.17531775803197,68.75419542305606,175.68370860414407,282.613221785232,389.5427349663199],[-534.0629815495888,-427.13346836850087,-320.2039551874129,-213.27444200632493,-106.34492882523695,0.5845843558509793,107.514097536939,214.44361071802703,321.37312389911494,428.3026370802029],[-495.30307943570585,-388.3735662546179,-281.4440530735299,-174.51453989244197,-67.58502671135399,39.34448646973394,146.27399965082196,253.20351283191,360.1330260129979,467.06253919408584],[-456.5431773218229,-349.61366414073495,-242.68415095964698,-135.75463777855902,-28.825124597471046,78.10438858361688,185.03390176470492,291.963414945793,398.89292812688086,505.8224413079688],[-417.78327520793994,-310.853762026852,-203.92424884576403,-96.99473566467606,9.934777516411927,116.86429069749985,223.79380387858788,330.72331705967594,437.6528302407638,544.5823434218518],[-379.023373094057,-272.09385991296904,-165.16434673188107,-58.234833550793084,48.69467963029489,155.6241928113828,262.5537059924709,369.4832191735589,476.4127323546468,583.3422455357347],[-340.263470980174,-233.3339577990861,-126.40444461799811,-19.47493143691014,87.45458174417783,194.38409492526577,301.3136081063538,408.24312128744185,515.1726344685297,622.1021476496176],[-301.50356886629106,-194.57405568520315,-87.64454250411515,19.28497067697282,126.21448385806079,233.14399703914873,340.07351022023676,447.0030234013248,553.9325365824127,660.8620497635006]],\"type\":\"surface\"}],                        {\"template\":{\"data\":{\"histogram2dcontour\":[{\"type\":\"histogram2dcontour\",\"colorbar\":{\"outlinewidth\":0,\"ticks\":\"\"},\"colorscale\":[[0.0,\"#0d0887\"],[0.1111111111111111,\"#46039f\"],[0.2222222222222222,\"#7201a8\"],[0.3333333333333333,\"#9c179e\"],[0.4444444444444444,\"#bd3786\"],[0.5555555555555556,\"#d8576b\"],[0.6666666666666666,\"#ed7953\"],[0.7777777777777778,\"#fb9f3a\"],[0.8888888888888888,\"#fdca26\"],[1.0,\"#f0f921\"]]}],\"choropleth\":[{\"type\":\"choropleth\",\"colorbar\":{\"outlinewidth\":0,\"ticks\":\"\"}}],\"histogram2d\":[{\"type\":\"histogram2d\",\"colorbar\":{\"outlinewidth\":0,\"ticks\":\"\"},\"colorscale\":[[0.0,\"#0d0887\"],[0.1111111111111111,\"#46039f\"],[0.2222222222222222,\"#7201a8\"],[0.3333333333333333,\"#9c179e\"],[0.4444444444444444,\"#bd3786\"],[0.5555555555555556,\"#d8576b\"],[0.6666666666666666,\"#ed7953\"],[0.7777777777777778,\"#fb9f3a\"],[0.8888888888888888,\"#fdca26\"],[1.0,\"#f0f921\"]]}],\"heatmap\":[{\"type\":\"heatmap\",\"colorbar\":{\"outlinewidth\":0,\"ticks\":\"\"},\"colorscale\":[[0.0,\"#0d0887\"],[0.1111111111111111,\"#46039f\"],[0.2222222222222222,\"#7201a8\"],[0.3333333333333333,\"#9c179e\"],[0.4444444444444444,\"#bd3786\"],[0.5555555555555556,\"#d8576b\"],[0.6666666666666666,\"#ed7953\"],[0.7777777777777778,\"#fb9f3a\"],[0.8888888888888888,\"#fdca26\"],[1.0,\"#f0f921\"]]}],\"heatmapgl\":[{\"type\":\"heatmapgl\",\"colorbar\":{\"outlinewidth\":0,\"ticks\":\"\"},\"colorscale\":[[0.0,\"#0d0887\"],[0.1111111111111111,\"#46039f\"],[0.2222222222222222,\"#7201a8\"],[0.3333333333333333,\"#9c179e\"],[0.4444444444444444,\"#bd3786\"],[0.5555555555555556,\"#d8576b\"],[0.6666666666666666,\"#ed7953\"],[0.7777777777777778,\"#fb9f3a\"],[0.8888888888888888,\"#fdca26\"],[1.0,\"#f0f921\"]]}],\"contourcarpet\":[{\"type\":\"contourcarpet\",\"colorbar\":{\"outlinewidth\":0,\"ticks\":\"\"}}],\"contour\":[{\"type\":\"contour\",\"colorbar\":{\"outlinewidth\":0,\"ticks\":\"\"},\"colorscale\":[[0.0,\"#0d0887\"],[0.1111111111111111,\"#46039f\"],[0.2222222222222222,\"#7201a8\"],[0.3333333333333333,\"#9c179e\"],[0.4444444444444444,\"#bd3786\"],[0.5555555555555556,\"#d8576b\"],[0.6666666666666666,\"#ed7953\"],[0.7777777777777778,\"#fb9f3a\"],[0.8888888888888888,\"#fdca26\"],[1.0,\"#f0f921\"]]}],\"surface\":[{\"type\":\"surface\",\"colorbar\":{\"outlinewidth\":0,\"ticks\":\"\"},\"colorscale\":[[0.0,\"#0d0887\"],[0.1111111111111111,\"#46039f\"],[0.2222222222222222,\"#7201a8\"],[0.3333333333333333,\"#9c179e\"],[0.4444444444444444,\"#bd3786\"],[0.5555555555555556,\"#d8576b\"],[0.6666666666666666,\"#ed7953\"],[0.7777777777777778,\"#fb9f3a\"],[0.8888888888888888,\"#fdca26\"],[1.0,\"#f0f921\"]]}],\"mesh3d\":[{\"type\":\"mesh3d\",\"colorbar\":{\"outlinewidth\":0,\"ticks\":\"\"}}],\"scatter\":[{\"fillpattern\":{\"fillmode\":\"overlay\",\"size\":10,\"solidity\":0.2},\"type\":\"scatter\"}],\"parcoords\":[{\"type\":\"parcoords\",\"line\":{\"colorbar\":{\"outlinewidth\":0,\"ticks\":\"\"}}}],\"scatterpolargl\":[{\"type\":\"scatterpolargl\",\"marker\":{\"colorbar\":{\"outlinewidth\":0,\"ticks\":\"\"}}}],\"bar\":[{\"error_x\":{\"color\":\"#2a3f5f\"},\"error_y\":{\"color\":\"#2a3f5f\"},\"marker\":{\"line\":{\"color\":\"#E5ECF6\",\"width\":0.5},\"pattern\":{\"fillmode\":\"overlay\",\"size\":10,\"solidity\":0.2}},\"type\":\"bar\"}],\"scattergeo\":[{\"type\":\"scattergeo\",\"marker\":{\"colorbar\":{\"outlinewidth\":0,\"ticks\":\"\"}}}],\"scatterpolar\":[{\"type\":\"scatterpolar\",\"marker\":{\"colorbar\":{\"outlinewidth\":0,\"ticks\":\"\"}}}],\"histogram\":[{\"marker\":{\"pattern\":{\"fillmode\":\"overlay\",\"size\":10,\"solidity\":0.2}},\"type\":\"histogram\"}],\"scattergl\":[{\"type\":\"scattergl\",\"marker\":{\"colorbar\":{\"outlinewidth\":0,\"ticks\":\"\"}}}],\"scatter3d\":[{\"type\":\"scatter3d\",\"line\":{\"colorbar\":{\"outlinewidth\":0,\"ticks\":\"\"}},\"marker\":{\"colorbar\":{\"outlinewidth\":0,\"ticks\":\"\"}}}],\"scattermapbox\":[{\"type\":\"scattermapbox\",\"marker\":{\"colorbar\":{\"outlinewidth\":0,\"ticks\":\"\"}}}],\"scatterternary\":[{\"type\":\"scatterternary\",\"marker\":{\"colorbar\":{\"outlinewidth\":0,\"ticks\":\"\"}}}],\"scattercarpet\":[{\"type\":\"scattercarpet\",\"marker\":{\"colorbar\":{\"outlinewidth\":0,\"ticks\":\"\"}}}],\"carpet\":[{\"aaxis\":{\"endlinecolor\":\"#2a3f5f\",\"gridcolor\":\"white\",\"linecolor\":\"white\",\"minorgridcolor\":\"white\",\"startlinecolor\":\"#2a3f5f\"},\"baxis\":{\"endlinecolor\":\"#2a3f5f\",\"gridcolor\":\"white\",\"linecolor\":\"white\",\"minorgridcolor\":\"white\",\"startlinecolor\":\"#2a3f5f\"},\"type\":\"carpet\"}],\"table\":[{\"cells\":{\"fill\":{\"color\":\"#EBF0F8\"},\"line\":{\"color\":\"white\"}},\"header\":{\"fill\":{\"color\":\"#C8D4E3\"},\"line\":{\"color\":\"white\"}},\"type\":\"table\"}],\"barpolar\":[{\"marker\":{\"line\":{\"color\":\"#E5ECF6\",\"width\":0.5},\"pattern\":{\"fillmode\":\"overlay\",\"size\":10,\"solidity\":0.2}},\"type\":\"barpolar\"}],\"pie\":[{\"automargin\":true,\"type\":\"pie\"}]},\"layout\":{\"autotypenumbers\":\"strict\",\"colorway\":[\"#636efa\",\"#EF553B\",\"#00cc96\",\"#ab63fa\",\"#FFA15A\",\"#19d3f3\",\"#FF6692\",\"#B6E880\",\"#FF97FF\",\"#FECB52\"],\"font\":{\"color\":\"#2a3f5f\"},\"hovermode\":\"closest\",\"hoverlabel\":{\"align\":\"left\"},\"paper_bgcolor\":\"white\",\"plot_bgcolor\":\"#E5ECF6\",\"polar\":{\"bgcolor\":\"#E5ECF6\",\"angularaxis\":{\"gridcolor\":\"white\",\"linecolor\":\"white\",\"ticks\":\"\"},\"radialaxis\":{\"gridcolor\":\"white\",\"linecolor\":\"white\",\"ticks\":\"\"}},\"ternary\":{\"bgcolor\":\"#E5ECF6\",\"aaxis\":{\"gridcolor\":\"white\",\"linecolor\":\"white\",\"ticks\":\"\"},\"baxis\":{\"gridcolor\":\"white\",\"linecolor\":\"white\",\"ticks\":\"\"},\"caxis\":{\"gridcolor\":\"white\",\"linecolor\":\"white\",\"ticks\":\"\"}},\"coloraxis\":{\"colorbar\":{\"outlinewidth\":0,\"ticks\":\"\"}},\"colorscale\":{\"sequential\":[[0.0,\"#0d0887\"],[0.1111111111111111,\"#46039f\"],[0.2222222222222222,\"#7201a8\"],[0.3333333333333333,\"#9c179e\"],[0.4444444444444444,\"#bd3786\"],[0.5555555555555556,\"#d8576b\"],[0.6666666666666666,\"#ed7953\"],[0.7777777777777778,\"#fb9f3a\"],[0.8888888888888888,\"#fdca26\"],[1.0,\"#f0f921\"]],\"sequentialminus\":[[0.0,\"#0d0887\"],[0.1111111111111111,\"#46039f\"],[0.2222222222222222,\"#7201a8\"],[0.3333333333333333,\"#9c179e\"],[0.4444444444444444,\"#bd3786\"],[0.5555555555555556,\"#d8576b\"],[0.6666666666666666,\"#ed7953\"],[0.7777777777777778,\"#fb9f3a\"],[0.8888888888888888,\"#fdca26\"],[1.0,\"#f0f921\"]],\"diverging\":[[0,\"#8e0152\"],[0.1,\"#c51b7d\"],[0.2,\"#de77ae\"],[0.3,\"#f1b6da\"],[0.4,\"#fde0ef\"],[0.5,\"#f7f7f7\"],[0.6,\"#e6f5d0\"],[0.7,\"#b8e186\"],[0.8,\"#7fbc41\"],[0.9,\"#4d9221\"],[1,\"#276419\"]]},\"xaxis\":{\"gridcolor\":\"white\",\"linecolor\":\"white\",\"ticks\":\"\",\"title\":{\"standoff\":15},\"zerolinecolor\":\"white\",\"automargin\":true,\"zerolinewidth\":2},\"yaxis\":{\"gridcolor\":\"white\",\"linecolor\":\"white\",\"ticks\":\"\",\"title\":{\"standoff\":15},\"zerolinecolor\":\"white\",\"automargin\":true,\"zerolinewidth\":2},\"scene\":{\"xaxis\":{\"backgroundcolor\":\"#E5ECF6\",\"gridcolor\":\"white\",\"linecolor\":\"white\",\"showbackground\":true,\"ticks\":\"\",\"zerolinecolor\":\"white\",\"gridwidth\":2},\"yaxis\":{\"backgroundcolor\":\"#E5ECF6\",\"gridcolor\":\"white\",\"linecolor\":\"white\",\"showbackground\":true,\"ticks\":\"\",\"zerolinecolor\":\"white\",\"gridwidth\":2},\"zaxis\":{\"backgroundcolor\":\"#E5ECF6\",\"gridcolor\":\"white\",\"linecolor\":\"white\",\"showbackground\":true,\"ticks\":\"\",\"zerolinecolor\":\"white\",\"gridwidth\":2}},\"shapedefaults\":{\"line\":{\"color\":\"#2a3f5f\"}},\"annotationdefaults\":{\"arrowcolor\":\"#2a3f5f\",\"arrowhead\":0,\"arrowwidth\":1},\"geo\":{\"bgcolor\":\"white\",\"landcolor\":\"#E5ECF6\",\"subunitcolor\":\"white\",\"showland\":true,\"showlakes\":true,\"lakecolor\":\"white\"},\"title\":{\"x\":0.05},\"mapbox\":{\"style\":\"light\"}}},\"scene\":{\"domain\":{\"x\":[0.0,1.0],\"y\":[0.0,1.0]},\"xaxis\":{\"title\":{\"text\":\"feature1\"}},\"yaxis\":{\"title\":{\"text\":\"feature2\"}},\"zaxis\":{\"title\":{\"text\":\"target\"}}},\"legend\":{\"tracegroupgap\":0},\"margin\":{\"t\":60}},                        {\"responsive\": true}                    ).then(function(){\n",
              "                            \n",
              "var gd = document.getElementById('4ad3a630-eac3-43c0-914d-826591e85a29');\n",
              "var x = new MutationObserver(function (mutations, observer) {{\n",
              "        var display = window.getComputedStyle(gd).display;\n",
              "        if (!display || display === 'none') {{\n",
              "            console.log([gd, 'removed!']);\n",
              "            Plotly.purge(gd);\n",
              "            observer.disconnect();\n",
              "        }}\n",
              "}});\n",
              "\n",
              "// Listen for the removal of the full notebook cells\n",
              "var notebookContainer = gd.closest('#notebook-container');\n",
              "if (notebookContainer) {{\n",
              "    x.observe(notebookContainer, {childList: true});\n",
              "}}\n",
              "\n",
              "// Listen for the clearing of the current output cell\n",
              "var outputEl = gd.closest('.output');\n",
              "if (outputEl) {{\n",
              "    x.observe(outputEl, {childList: true});\n",
              "}}\n",
              "\n",
              "                        })                };                            </script>        </div>\n",
              "</body>\n",
              "</html>"
            ]
          },
          "metadata": {}
        }
      ]
    },
    {
      "cell_type": "code",
      "source": [
        "lr.coef_"
      ],
      "metadata": {
        "colab": {
          "base_uri": "https://localhost:8080/"
        },
        "id": "T1VlKuj8ByLx",
        "outputId": "a75065da-dc0e-4915-ac10-0c247bcffc4f"
      },
      "execution_count": 19,
      "outputs": [
        {
          "output_type": "execute_result",
          "data": {
            "text/plain": [
              "array([96.23656186, 34.8839119 ])"
            ]
          },
          "metadata": {},
          "execution_count": 19
        }
      ]
    },
    {
      "cell_type": "code",
      "source": [
        "lr.intercept_"
      ],
      "metadata": {
        "colab": {
          "base_uri": "https://localhost:8080/"
        },
        "id": "1C0Pmt6FB36p",
        "outputId": "e272e77c-5030-48da-8165-5942a1e6ee60"
      },
      "execution_count": 20,
      "outputs": [
        {
          "output_type": "execute_result",
          "data": {
            "text/plain": [
              "5.2596809361314465"
            ]
          },
          "metadata": {},
          "execution_count": 20
        }
      ]
    }
  ]
}